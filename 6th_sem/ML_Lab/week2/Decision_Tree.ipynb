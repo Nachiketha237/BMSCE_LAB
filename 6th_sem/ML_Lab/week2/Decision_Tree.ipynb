{
  "nbformat": 4,
  "nbformat_minor": 0,
  "metadata": {
    "colab": {
      "provenance": [],
      "authorship_tag": "ABX9TyMNh1UoDC7Oa6tWUQQK2xHD",
      "include_colab_link": true
    },
    "kernelspec": {
      "name": "python3",
      "display_name": "Python 3"
    },
    "language_info": {
      "name": "python"
    }
  },
  "cells": [
    {
      "cell_type": "markdown",
      "metadata": {
        "id": "view-in-github",
        "colab_type": "text"
      },
      "source": [
        "<a href=\"https://colab.research.google.com/github/Nachiketha237/BMSCE_LAB/blob/main/6th_sem/ML_Lab/week2/Decision_Tree.ipynb\" target=\"_parent\"><img src=\"https://colab.research.google.com/assets/colab-badge.svg\" alt=\"Open In Colab\"/></a>"
      ]
    },
    {
      "cell_type": "code",
      "execution_count": 12,
      "metadata": {
        "id": "LvTfyfhchrdp"
      },
      "outputs": [],
      "source": [
        "from sklearn import datasets\n",
        "from sklearn.model_selection import train_test_split\n",
        "from sklearn.tree import DecisionTreeClassifier\n",
        "from sklearn.metrics import accuracy_score\n",
        "import numpy as np\n",
        "\n"
      ]
    },
    {
      "cell_type": "code",
      "source": [
        "class Node():\n",
        "\n",
        "    def __init__(self, feature=None, threshold=None, left=None, right=None, gain=None, value=None):\n",
        "        self.feature = feature\n",
        "        self.threshold = threshold\n",
        "        self.left = left\n",
        "        self.right = right\n",
        "        self.gain = gain\n",
        "        self.value = value"
      ],
      "metadata": {
        "id": "zj-YxVLSjOpH"
      },
      "execution_count": 13,
      "outputs": []
    },
    {
      "cell_type": "code",
      "source": [
        "\n",
        "\n",
        "class DecisionTree():\n",
        "    def __init__(self, min_samples=2, max_depth=2):\n",
        "        self.min_samples = min_samples\n",
        "        self.max_depth = max_depth\n",
        "\n",
        "    def split_data(self, dataset, feature, threshold):\n",
        "        left_dataset = dataset[dataset[:, feature] <= threshold]\n",
        "        right_dataset = dataset[dataset[:, feature] > threshold]\n",
        "        return left_dataset, right_dataset\n",
        "\n",
        "    def entropy(self, y):\n",
        "        _, counts = np.unique(y, return_counts=True)\n",
        "        probabilities = counts / len(y)\n",
        "        entropy = -np.sum(probabilities * np.log2(probabilities))\n",
        "        return entropy\n",
        "\n",
        "    def information_gain(self, parent, left, right):\n",
        "        weight_left = len(left) / len(parent)\n",
        "        weight_right = len(right) / len(parent)\n",
        "        entropy_left = self.entropy(left[:, -1])\n",
        "        entropy_right = self.entropy(right[:, -1])\n",
        "        weighted_entropy = weight_left * entropy_left + weight_right * entropy_right\n",
        "        parent_entropy = self.entropy(parent[:, -1])\n",
        "        information_gain = parent_entropy - weighted_entropy\n",
        "        return information_gain\n",
        "\n",
        "    def best_split(self, dataset):\n",
        "        best_gain = 0\n",
        "        best_feature = None\n",
        "        best_threshold = None\n",
        "        n_samples, n_features = dataset.shape\n",
        "        parent_entropy = self.entropy(dataset[:, -1])\n",
        "\n",
        "        for feature_index in range(n_features - 1):\n",
        "            thresholds = np.unique(dataset[:, feature_index])\n",
        "            for threshold in thresholds:\n",
        "                left_dataset, right_dataset = self.split_data(dataset, feature_index, threshold)\n",
        "                if len(left_dataset) == 0 or len(right_dataset) == 0:\n",
        "                    continue\n",
        "                gain = self.information_gain(dataset, left_dataset, right_dataset)\n",
        "                if gain > best_gain:\n",
        "                    best_gain = gain\n",
        "                    best_feature = feature_index\n",
        "                    best_threshold = threshold\n",
        "\n",
        "        return best_feature, best_threshold\n",
        "\n",
        "    def build_tree(self, dataset, depth=0):\n",
        "        if depth >= self.max_depth or len(dataset) < self.min_samples:\n",
        "            values, counts = np.unique(dataset[:, -1], return_counts=True)\n",
        "            return values[np.argmax(counts)]\n",
        "\n",
        "        best_feature, best_threshold = self.best_split(dataset)\n",
        "        if best_feature is None:\n",
        "            values, counts = np.unique(dataset[:, -1], return_counts=True)\n",
        "            return values[np.argmax(counts)]\n",
        "\n",
        "        left_dataset, right_dataset = self.split_data(dataset, best_feature, best_threshold)\n",
        "        left_subtree = self.build_tree(left_dataset, depth + 1)\n",
        "        right_subtree = self.build_tree(right_dataset, depth + 1)\n",
        "\n",
        "        return (best_feature, best_threshold, left_subtree, right_subtree)\n",
        "\n",
        "    def fit(self, X, y):\n",
        "        dataset = np.column_stack((X, y))\n",
        "        self.tree = self.build_tree(dataset)\n",
        "\n",
        "    def predict(self, X):\n",
        "        predictions = []\n",
        "        for x in X:\n",
        "            node = self.tree\n",
        "            while isinstance(node, tuple):\n",
        "                feature, threshold, left_subtree, right_subtree = node\n",
        "                if x[feature] <= threshold:\n",
        "                    node = left_subtree\n",
        "                else:\n",
        "                    node = right_subtree\n",
        "            predictions.append(node)\n",
        "        return predictions\n"
      ],
      "metadata": {
        "id": "7n6RT31CjBp_"
      },
      "execution_count": 14,
      "outputs": []
    },
    {
      "cell_type": "code",
      "source": [
        "def train_test_split(X, y, random_state=41, test_size=0.2):\n",
        "\n",
        "    n_samples = X.shape[0]\n",
        "\n",
        "    np.random.seed(random_state)\n",
        "\n",
        "    shuffled_indices = np.random.permutation(np.arange(n_samples))\n",
        "\n",
        "    test_size = int(n_samples * test_size)\n",
        "\n",
        "    test_indices = shuffled_indices[:test_size]\n",
        "    train_indices = shuffled_indices[test_size:]\n",
        "\n",
        "    X_train, X_test = X[train_indices], X[test_indices]\n",
        "    y_train, y_test = y[train_indices], y[test_indices]\n",
        "\n",
        "    return X_train, X_test, y_train, y_test"
      ],
      "metadata": {
        "id": "lxFKT-YOjXo3"
      },
      "execution_count": 15,
      "outputs": []
    },
    {
      "cell_type": "code",
      "source": [
        "def accuracy(y_true, y_pred):\n",
        "    y_true = y_true.flatten()\n",
        "    total_samples = len(y_true)\n",
        "    correct_predictions = np.sum(y_true == y_pred)\n",
        "    return (correct_predictions / total_samples)"
      ],
      "metadata": {
        "id": "WrXgVePvjhP-"
      },
      "execution_count": 16,
      "outputs": []
    },
    {
      "cell_type": "code",
      "source": [
        "iris = datasets.load_iris()\n",
        "X = iris.data\n",
        "y = iris.target\n",
        "X_train, X_test, y_train, y_test = train_test_split(X, y, random_state=41, test_size=0.2)"
      ],
      "metadata": {
        "id": "vihRH4PLj5YP"
      },
      "execution_count": 17,
      "outputs": []
    },
    {
      "cell_type": "code",
      "source": [
        "model = DecisionTree(2, 2)\n",
        "model.fit(X_train, y_train)\n",
        "\n",
        "predictions = model.predict(X_test)\n",
        "\n",
        "print(f\"Model's Accuracy: {accuracy(y_test, predictions)}\")"
      ],
      "metadata": {
        "colab": {
          "base_uri": "https://localhost:8080/"
        },
        "id": "yj0eeCUGkBEv",
        "outputId": "a5417944-cdc7-4fd7-f0f5-e1f5d16f8d3b"
      },
      "execution_count": 18,
      "outputs": [
        {
          "output_type": "stream",
          "name": "stdout",
          "text": [
            "Model's Accuracy: 0.8333333333333334\n"
          ]
        }
      ]
    },
    {
      "cell_type": "code",
      "source": [
        "X_test1 =[6.1,2.8,4.2,3.1]\n",
        "prediction = model.predict(X_test)"
      ],
      "metadata": {
        "id": "IPBzpcYFkXsA"
      },
      "execution_count": 25,
      "outputs": []
    },
    {
      "cell_type": "code",
      "source": [],
      "metadata": {
        "id": "mXYNGy_xkxog"
      },
      "execution_count": null,
      "outputs": []
    }
  ]
}