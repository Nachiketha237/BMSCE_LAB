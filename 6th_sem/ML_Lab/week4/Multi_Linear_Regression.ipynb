{
  "nbformat": 4,
  "nbformat_minor": 0,
  "metadata": {
    "colab": {
      "provenance": [],
      "authorship_tag": "ABX9TyPFwP8eWuPN1Vh5QhLQHaG3",
      "include_colab_link": true
    },
    "kernelspec": {
      "name": "python3",
      "display_name": "Python 3"
    },
    "language_info": {
      "name": "python"
    }
  },
  "cells": [
    {
      "cell_type": "markdown",
      "metadata": {
        "id": "view-in-github",
        "colab_type": "text"
      },
      "source": [
        "<a href=\"https://colab.research.google.com/github/Nachiketha237/BMSCE_LAB/blob/main/6th_sem/ML_Lab/week4/Multi_Linear_Regression.ipynb\" target=\"_parent\"><img src=\"https://colab.research.google.com/assets/colab-badge.svg\" alt=\"Open In Colab\"/></a>"
      ]
    },
    {
      "cell_type": "code",
      "execution_count": null,
      "metadata": {
        "id": "Cl83LrivvbNi",
        "colab": {
          "base_uri": "https://localhost:8080/"
        },
        "outputId": "0647aa81-5148-4184-8ae8-c5d6be9a7178"
      },
      "outputs": [
        {
          "output_type": "stream",
          "name": "stdout",
          "text": [
            "0       91.0\n",
            "1       65.0\n",
            "2       45.0\n",
            "3       36.0\n",
            "4       66.0\n",
            "        ... \n",
            "9995    23.0\n",
            "9996    58.0\n",
            "9997    74.0\n",
            "9998    95.0\n",
            "9999    64.0\n",
            "Name: Performance Index, Length: 10000, dtype: float64\n"
          ]
        }
      ],
      "source": [
        "import pandas as pd\n",
        "import numpy as np\n",
        "from sklearn.metrics import r2_score\n",
        "from sklearn.metrics import mean_squared_error\n",
        "from sklearn.model_selection import train_test_split\n",
        "from sklearn.linear_model import LinearRegression\n",
        "\n",
        "df = pd.read_csv('/content/Student_Performance.csv')\n",
        "x1 = (df[[\"Extracurricular Activities\"]] == \"Yes\").astype(int)\n",
        "x = pd.concat([df[[\"Hours Studied\", \"Previous Scores\", \"Sleep Hours\", \"Sample Question Papers Practiced\"]], x1], axis=1)\n",
        "y = df.iloc[:,-1]\n",
        "print(y)\n",
        "x_train, x_test, y_train, y_test = train_test_split(x, y, test_size = 0.2, random_state = 42)"
      ]
    },
    {
      "cell_type": "code",
      "source": [
        "LR = LinearRegression()\n",
        "\n",
        "LR.fit(x_train,y_train)\n",
        "y_pred=  LR.predict(x_test)\n",
        "score=r2_score(y_test,y_pred)\n",
        "print(y_pred)\n",
        "print(y_test)"
      ],
      "metadata": {
        "colab": {
          "base_uri": "https://localhost:8080/"
        },
        "id": "qa5qHPES0DxM",
        "outputId": "cc30992b-d074-466d-a588-2a2856aedbf8"
      },
      "execution_count": null,
      "outputs": [
        {
          "output_type": "stream",
          "name": "stdout",
          "text": [
            "[54.71185392 22.61551294 47.90314471 ... 16.79341955 63.34327368\n",
            " 45.94262301]\n",
            "6252    51.0\n",
            "4684    20.0\n",
            "1731    46.0\n",
            "4742    28.0\n",
            "4521    41.0\n",
            "        ... \n",
            "6412    45.0\n",
            "8285    66.0\n",
            "7853    16.0\n",
            "1095    65.0\n",
            "6929    47.0\n",
            "Name: Performance Index, Length: 2000, dtype: float64\n"
          ]
        }
      ]
    },
    {
      "cell_type": "code",
      "source": [],
      "metadata": {
        "id": "uIGAQJlJ0mjk"
      },
      "execution_count": null,
      "outputs": []
    }
  ]
}